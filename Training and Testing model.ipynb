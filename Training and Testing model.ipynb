{
 "cells": [
  {
   "cell_type": "code",
   "execution_count": 37,
   "id": "0fece20a",
   "metadata": {},
   "outputs": [],
   "source": [
    "import numpy as np\n",
    "import pandas as pd\n",
    "import matplotlib.pyplot as plt\n",
    "import seaborn as sns\n",
    "import os\n",
    "import tensorflow\n",
    "import tensorflow_hub as hub\n",
    "import tensorflow_io as tfio"
   ]
  },
  {
   "cell_type": "code",
   "execution_count": 5,
   "id": "83e443f8",
   "metadata": {},
   "outputs": [
    {
     "data": {
      "text/plain": [
       "['cat_1.wav', 'cat_10.wav', 'cat_100.wav', 'cat_101.wav', 'cat_102.wav']"
      ]
     },
     "execution_count": 5,
     "metadata": {},
     "output_type": "execute_result"
    }
   ],
   "source": [
    "dir_path = 'cats_dogs'\n",
    "\n",
    "files_temp = os.listdir(dir_path)\n",
    "files_temp[:5]"
   ]
  },
  {
   "cell_type": "code",
   "execution_count": 6,
   "id": "322cf9bb",
   "metadata": {},
   "outputs": [
    {
     "data": {
      "text/html": [
       "<div>\n",
       "<style scoped>\n",
       "    .dataframe tbody tr th:only-of-type {\n",
       "        vertical-align: middle;\n",
       "    }\n",
       "\n",
       "    .dataframe tbody tr th {\n",
       "        vertical-align: top;\n",
       "    }\n",
       "\n",
       "    .dataframe thead th {\n",
       "        text-align: right;\n",
       "    }\n",
       "</style>\n",
       "<table border=\"1\" class=\"dataframe\">\n",
       "  <thead>\n",
       "    <tr style=\"text-align: right;\">\n",
       "      <th></th>\n",
       "      <th>File Path</th>\n",
       "    </tr>\n",
       "  </thead>\n",
       "  <tbody>\n",
       "    <tr>\n",
       "      <th>0</th>\n",
       "      <td>cats_dogs/cat_1.wav</td>\n",
       "    </tr>\n",
       "    <tr>\n",
       "      <th>1</th>\n",
       "      <td>cats_dogs/cat_10.wav</td>\n",
       "    </tr>\n",
       "    <tr>\n",
       "      <th>2</th>\n",
       "      <td>cats_dogs/cat_100.wav</td>\n",
       "    </tr>\n",
       "    <tr>\n",
       "      <th>3</th>\n",
       "      <td>cats_dogs/cat_101.wav</td>\n",
       "    </tr>\n",
       "    <tr>\n",
       "      <th>4</th>\n",
       "      <td>cats_dogs/cat_102.wav</td>\n",
       "    </tr>\n",
       "  </tbody>\n",
       "</table>\n",
       "</div>"
      ],
      "text/plain": [
       "               File Path\n",
       "0    cats_dogs/cat_1.wav\n",
       "1   cats_dogs/cat_10.wav\n",
       "2  cats_dogs/cat_100.wav\n",
       "3  cats_dogs/cat_101.wav\n",
       "4  cats_dogs/cat_102.wav"
      ]
     },
     "execution_count": 6,
     "metadata": {},
     "output_type": "execute_result"
    }
   ],
   "source": [
    "files = []\n",
    "for file in files_temp:\n",
    "    if file.endswith('.wav'):\n",
    "        files.append(dir_path + '/' + file)\n",
    "\n",
    "df = pd.DataFrame({'File Path': files})\n",
    "df.head()"
   ]
  },
  {
   "cell_type": "code",
   "execution_count": 7,
   "id": "4ecd7159",
   "metadata": {},
   "outputs": [],
   "source": [
    "# Define a function to label files containing 'cat' as 1 and 'dog' as 0\n",
    "def label_files(filename):\n",
    "    if 'cat' in filename.split('/')[1]:  # Assuming 'cat' is part of the file name before the number\n",
    "        return 1\n",
    "    elif 'dog' in filename.split('/')[1]:  # Assuming 'dog' is part of the file name before the number\n",
    "        return 0\n",
    "    else:\n",
    "        return None  # Return None for files that don't match cat or dog criteria"
   ]
  },
  {
   "cell_type": "code",
   "execution_count": 8,
   "id": "6622e571",
   "metadata": {},
   "outputs": [],
   "source": [
    "# Apply the function to label files\n",
    "df['Label'] = df['File Path'].apply(lambda x: label_files(x))"
   ]
  },
  {
   "cell_type": "code",
   "execution_count": 9,
   "id": "3cf57542",
   "metadata": {},
   "outputs": [
    {
     "data": {
      "text/html": [
       "<div>\n",
       "<style scoped>\n",
       "    .dataframe tbody tr th:only-of-type {\n",
       "        vertical-align: middle;\n",
       "    }\n",
       "\n",
       "    .dataframe tbody tr th {\n",
       "        vertical-align: top;\n",
       "    }\n",
       "\n",
       "    .dataframe thead th {\n",
       "        text-align: right;\n",
       "    }\n",
       "</style>\n",
       "<table border=\"1\" class=\"dataframe\">\n",
       "  <thead>\n",
       "    <tr style=\"text-align: right;\">\n",
       "      <th></th>\n",
       "      <th>File Path</th>\n",
       "      <th>Label</th>\n",
       "    </tr>\n",
       "  </thead>\n",
       "  <tbody>\n",
       "    <tr>\n",
       "      <th>0</th>\n",
       "      <td>cats_dogs/cat_1.wav</td>\n",
       "      <td>1</td>\n",
       "    </tr>\n",
       "    <tr>\n",
       "      <th>1</th>\n",
       "      <td>cats_dogs/cat_10.wav</td>\n",
       "      <td>1</td>\n",
       "    </tr>\n",
       "    <tr>\n",
       "      <th>2</th>\n",
       "      <td>cats_dogs/cat_100.wav</td>\n",
       "      <td>1</td>\n",
       "    </tr>\n",
       "    <tr>\n",
       "      <th>3</th>\n",
       "      <td>cats_dogs/cat_101.wav</td>\n",
       "      <td>1</td>\n",
       "    </tr>\n",
       "    <tr>\n",
       "      <th>4</th>\n",
       "      <td>cats_dogs/cat_102.wav</td>\n",
       "      <td>1</td>\n",
       "    </tr>\n",
       "  </tbody>\n",
       "</table>\n",
       "</div>"
      ],
      "text/plain": [
       "               File Path  Label\n",
       "0    cats_dogs/cat_1.wav      1\n",
       "1   cats_dogs/cat_10.wav      1\n",
       "2  cats_dogs/cat_100.wav      1\n",
       "3  cats_dogs/cat_101.wav      1\n",
       "4  cats_dogs/cat_102.wav      1"
      ]
     },
     "execution_count": 9,
     "metadata": {},
     "output_type": "execute_result"
    }
   ],
   "source": [
    "# Remove rows with None (files that didn't match cat or dog criteria)\n",
    "df = df.dropna()\n",
    "\n",
    "#check\n",
    "df.head()"
   ]
  },
  {
   "cell_type": "code",
   "execution_count": 10,
   "id": "1e33cbca",
   "metadata": {},
   "outputs": [
    {
     "data": {
      "text/plain": [
       "Label\n",
       "1    164\n",
       "0    113\n",
       "Name: count, dtype: int64"
      ]
     },
     "execution_count": 10,
     "metadata": {},
     "output_type": "execute_result"
    }
   ],
   "source": [
    "df['Label'].value_counts()"
   ]
  },
  {
   "cell_type": "code",
   "execution_count": 11,
   "id": "34551ac0",
   "metadata": {},
   "outputs": [
    {
     "data": {
      "text/plain": [
       "(277, 2)"
      ]
     },
     "execution_count": 11,
     "metadata": {},
     "output_type": "execute_result"
    }
   ],
   "source": [
    "df.shape"
   ]
  },
  {
   "cell_type": "code",
   "execution_count": 12,
   "id": "9d62c91f",
   "metadata": {},
   "outputs": [
    {
     "data": {
      "text/plain": [
       "<Axes: ylabel='count'>"
      ]
     },
     "execution_count": 12,
     "metadata": {},
     "output_type": "execute_result"
    },
    {
     "data": {
      "image/png": "[encoded data removed]",
      "text/plain": [
       "<Figure size 640x480 with 1 Axes>"
      ]
     },
     "metadata": {},
     "output_type": "display_data"
    }
   ],
   "source": [
    "df['Label'].value_counts().plot(kind='pie', autopct='%.1f%%')"
   ]
  },
  {
   "cell_type": "code",
   "execution_count": 13,
   "id": "c2e0a690",
   "metadata": {},
   "outputs": [
    {
     "name": "stdout",
     "output_type": "stream",
     "text": [
      "WARNING:tensorflow:From C:\\Users\\ASUS\\Documents\\mapua\\cpe\\cpe 124\\virtual\\emt\\lib\\site-packages\\tensorflow_hub\\resolver.py:120: The name tf.gfile.MakeDirs is deprecated. Please use tf.io.gfile.makedirs instead.\n",
      "\n"
     ]
    },
    {
     "name": "stderr",
     "output_type": "stream",
     "text": [
      "WARNING:tensorflow:From C:\\Users\\ASUS\\Documents\\mapua\\cpe\\cpe 124\\virtual\\emt\\lib\\site-packages\\tensorflow_hub\\resolver.py:120: The name tf.gfile.MakeDirs is deprecated. Please use tf.io.gfile.makedirs instead.\n",
      "\n"
     ]
    },
    {
     "name": "stdout",
     "output_type": "stream",
     "text": [
      "WARNING:tensorflow:From C:\\Users\\ASUS\\Documents\\mapua\\cpe\\cpe 124\\virtual\\emt\\lib\\site-packages\\tensorflow_hub\\module_v2.py:120: The name tf.saved_model.load_v2 is deprecated. Please use tf.compat.v2.saved_model.load instead.\n",
      "\n"
     ]
    },
    {
     "name": "stderr",
     "output_type": "stream",
     "text": [
      "WARNING:tensorflow:From C:\\Users\\ASUS\\Documents\\mapua\\cpe\\cpe 124\\virtual\\emt\\lib\\site-packages\\tensorflow_hub\\module_v2.py:120: The name tf.saved_model.load_v2 is deprecated. Please use tf.compat.v2.saved_model.load instead.\n",
      "\n"
     ]
    }
   ],
   "source": [
    "yamnet_url = \"https://tfhub.dev/google/yamnet/1\"\n",
    "yamnet = hub.load(yamnet_url)"
   ]
  },
  {
   "cell_type": "code",
   "execution_count": 14,
   "id": "a566989f",
   "metadata": {},
   "outputs": [],
   "source": [
    "X = df['File Path']\n",
    "y = df['Label']"
   ]
  },
  {
   "cell_type": "code",
   "execution_count": 15,
   "id": "edd16145",
   "metadata": {},
   "outputs": [
    {
     "name": "stdout",
     "output_type": "stream",
     "text": [
      "249 13 15\n"
     ]
    }
   ],
   "source": [
    "def train_validate_test_split(df):\n",
    "    df = df.sample(frac=1)\n",
    "    train_end = int(.9 * len(df.index))\n",
    "    validate_end = int(.05 * len(df.index)) + train_end\n",
    "    train = df.iloc[:train_end]\n",
    "    validate = df.iloc[train_end:validate_end]\n",
    "    test = df.iloc[validate_end:]\n",
    "    return train, validate, test\n",
    "\n",
    "df_train, df_validation, df_test = train_validate_test_split(df)\n",
    "print(len(df_train), len(df_validation), len(df_test))"
   ]
  },
  {
   "cell_type": "code",
   "execution_count": 16,
   "id": "34978802",
   "metadata": {},
   "outputs": [],
   "source": [
    "train_ds = tf.data.Dataset.from_tensor_slices((df_train['File Path'], df_train['Label']))\n",
    "valid_ds = tf.data.Dataset.from_tensor_slices((df_validation['File Path'], df_validation['Label']))\n",
    "test_ds = tf.data.Dataset.from_tensor_slices((df_test['File Path'], df_test['Label']))"
   ]
  },
  {
   "cell_type": "code",
   "execution_count": 17,
   "id": "a929bf93",
   "metadata": {},
   "outputs": [],
   "source": [
    "def load_wav_16k_mono(filename):\n",
    "    \"\"\" Load a WAV file, convert it to a float tensor, resample to 16 kHz single-channel audio. \"\"\"\n",
    "    file_contents = tf.io.read_file(filename)\n",
    "    wav, sample_rate = tf.audio.decode_wav(\n",
    "          file_contents,\n",
    "          desired_channels=1)\n",
    "    wav = tf.squeeze(wav, axis=-1)\n",
    "    sample_rate = tf.cast(sample_rate, dtype=tf.int64)\n",
    "    return wav"
   ]
  },
  {
   "cell_type": "code",
   "execution_count": 18,
   "id": "6d0d4c6f",
   "metadata": {},
   "outputs": [],
   "source": [
    "def wav_map(file_path, label):\n",
    "    return load_wav_16k_mono(file_path), label"
   ]
  },
  {
   "cell_type": "code",
   "execution_count": 19,
   "id": "3579b688",
   "metadata": {},
   "outputs": [],
   "source": [
    "def extract_yamnet_embeddings(wav_data, targets):\n",
    "    scores, embeddings, spectrogram = yamnet(wav_data)\n",
    "    num_embeddings = tf.shape(embeddings)[0]\n",
    "    return (embeddings, tf.repeat(targets, num_embeddings))"
   ]
  },
  {
   "cell_type": "code",
   "execution_count": 20,
   "id": "7d27f507",
   "metadata": {},
   "outputs": [],
   "source": [
    "def process_dataset(dataset):\n",
    "    return (\n",
    "        dataset\n",
    "        .map(wav_map)\n",
    "        .map(extract_yamnet_embeddings)\n",
    "        .unbatch()\n",
    "        .cache()\n",
    "        .shuffle(1000)\n",
    "        .batch(32)\n",
    "        .prefetch(tf.data.AUTOTUNE)\n",
    "    )\n",
    "\n",
    "train_ds = process_dataset(train_ds)\n",
    "valid_ds = process_dataset(valid_ds)\n",
    "test_ds = process_dataset(test_ds)"
   ]
  },
  {
   "cell_type": "code",
   "execution_count": 21,
   "id": "f1c2edc7",
   "metadata": {},
   "outputs": [
    {
     "name": "stdout",
     "output_type": "stream",
     "text": [
      "WARNING:tensorflow:From C:\\Users\\ASUS\\Documents\\mapua\\cpe\\cpe 124\\virtual\\emt\\lib\\site-packages\\keras\\src\\backend.py:277: The name tf.reset_default_graph is deprecated. Please use tf.compat.v1.reset_default_graph instead.\n",
      "\n"
     ]
    },
    {
     "name": "stderr",
     "output_type": "stream",
     "text": [
      "WARNING:tensorflow:From C:\\Users\\ASUS\\Documents\\mapua\\cpe\\cpe 124\\virtual\\emt\\lib\\site-packages\\keras\\src\\backend.py:277: The name tf.reset_default_graph is deprecated. Please use tf.compat.v1.reset_default_graph instead.\n",
      "\n"
     ]
    }
   ],
   "source": [
    "tf.keras.backend.clear_session()\n",
    "\n",
    "model = tf.keras.Sequential([\n",
    "    tf.keras.layers.Input(shape=(1024), dtype=tf.float32),\n",
    "    tf.keras.layers.Dense(512, activation='relu'),\n",
    "    tf.keras.layers.Dense(2, activation='softmax')\n",
    "])"
   ]
  },
  {
   "cell_type": "code",
   "execution_count": 22,
   "id": "1cb1fb90",
   "metadata": {},
   "outputs": [],
   "source": [
    "model.compile(loss=\"sparse_categorical_crossentropy\", optimizer=\"adam\", metrics=[\"accuracy\"])\n",
    "early_stopping = tf.keras.callbacks.EarlyStopping(monitor='val_loss', patience=3)"
   ]
  },
  {
   "cell_type": "code",
   "execution_count": 23,
   "id": "dc4649c1",
   "metadata": {},
   "outputs": [
    {
     "name": "stdout",
     "output_type": "stream",
     "text": [
      "Epoch 1/50\n",
      "WARNING:tensorflow:From C:\\Users\\ASUS\\Documents\\mapua\\cpe\\cpe 124\\virtual\\emt\\lib\\site-packages\\keras\\src\\utils\\tf_utils.py:492: The name tf.ragged.RaggedTensorValue is deprecated. Please use tf.compat.v1.ragged.RaggedTensorValue instead.\n",
      "\n"
     ]
    },
    {
     "name": "stderr",
     "output_type": "stream",
     "text": [
      "WARNING:tensorflow:From C:\\Users\\ASUS\\Documents\\mapua\\cpe\\cpe 124\\virtual\\emt\\lib\\site-packages\\keras\\src\\utils\\tf_utils.py:492: The name tf.ragged.RaggedTensorValue is deprecated. Please use tf.compat.v1.ragged.RaggedTensorValue instead.\n",
      "\n"
     ]
    },
    {
     "name": "stdout",
     "output_type": "stream",
     "text": [
      "106/106 [==============================] - 5s 32ms/step - loss: 0.2542 - accuracy: 0.9297 - val_loss: 0.2476 - val_accuracy: 0.9059\n",
      "Epoch 2/50\n",
      "106/106 [==============================] - 0s 3ms/step - loss: 0.1316 - accuracy: 0.9584 - val_loss: 0.2734 - val_accuracy: 0.9000\n",
      "Epoch 3/50\n",
      "106/106 [==============================] - 0s 3ms/step - loss: 0.1134 - accuracy: 0.9681 - val_loss: 0.2533 - val_accuracy: 0.9118\n",
      "Epoch 4/50\n",
      "106/106 [==============================] - 0s 3ms/step - loss: 0.0757 - accuracy: 0.9752 - val_loss: 0.2861 - val_accuracy: 0.9000\n"
     ]
    }
   ],
   "source": [
    "history = model.fit(train_ds, epochs=50, validation_data=valid_ds, callbacks=[early_stopping])"
   ]
  },
  {
   "cell_type": "code",
   "execution_count": 24,
   "id": "731de57e",
   "metadata": {},
   "outputs": [
    {
     "data": {
      "text/html": [
       "<div>\n",
       "<style scoped>\n",
       "    .dataframe tbody tr th:only-of-type {\n",
       "        vertical-align: middle;\n",
       "    }\n",
       "\n",
       "    .dataframe tbody tr th {\n",
       "        vertical-align: top;\n",
       "    }\n",
       "\n",
       "    .dataframe thead th {\n",
       "        text-align: right;\n",
       "    }\n",
       "</style>\n",
       "<table border=\"1\" class=\"dataframe\">\n",
       "  <thead>\n",
       "    <tr style=\"text-align: right;\">\n",
       "      <th></th>\n",
       "      <th>loss</th>\n",
       "      <th>accuracy</th>\n",
       "      <th>val_loss</th>\n",
       "      <th>val_accuracy</th>\n",
       "    </tr>\n",
       "  </thead>\n",
       "  <tbody>\n",
       "    <tr>\n",
       "      <th>0</th>\n",
       "      <td>0.254163</td>\n",
       "      <td>0.929711</td>\n",
       "      <td>0.247576</td>\n",
       "      <td>0.905882</td>\n",
       "    </tr>\n",
       "    <tr>\n",
       "      <th>1</th>\n",
       "      <td>0.131583</td>\n",
       "      <td>0.958358</td>\n",
       "      <td>0.273403</td>\n",
       "      <td>0.900000</td>\n",
       "    </tr>\n",
       "    <tr>\n",
       "      <th>2</th>\n",
       "      <td>0.113370</td>\n",
       "      <td>0.968104</td>\n",
       "      <td>0.253295</td>\n",
       "      <td>0.911765</td>\n",
       "    </tr>\n",
       "    <tr>\n",
       "      <th>3</th>\n",
       "      <td>0.075692</td>\n",
       "      <td>0.975192</td>\n",
       "      <td>0.286145</td>\n",
       "      <td>0.900000</td>\n",
       "    </tr>\n",
       "  </tbody>\n",
       "</table>\n",
       "</div>"
      ],
      "text/plain": [
       "       loss  accuracy  val_loss  val_accuracy\n",
       "0  0.254163  0.929711  0.247576      0.905882\n",
       "1  0.131583  0.958358  0.273403      0.900000\n",
       "2  0.113370  0.968104  0.253295      0.911765\n",
       "3  0.075692  0.975192  0.286145      0.900000"
      ]
     },
     "execution_count": 24,
     "metadata": {},
     "output_type": "execute_result"
    }
   ],
   "source": [
    "history_df = pd.DataFrame(history.history)\n",
    "history_df.head()"
   ]
  },
  {
   "cell_type": "code",
   "execution_count": 25,
   "id": "6a96c5d8",
   "metadata": {},
   "outputs": [
    {
     "data": {
      "image/png": "[encoded data removed]",
      "text/plain": [
       "<Figure size 1200x300 with 2 Axes>"
      ]
     },
     "metadata": {},
     "output_type": "display_data"
    }
   ],
   "source": [
    "fig, axes = plt.subplots(1, 2, figsize=(12, 3))\n",
    "ax = axes.ravel()\n",
    "\n",
    "for i, metric in enumerate(['accuracy', 'loss']):\n",
    "    ax[i].plot(history.history[metric])\n",
    "    ax[i].plot(history.history['val_' + metric])\n",
    "    ax[i].set_xlabel('Epoch')\n",
    "    ax[i].set_ylabel(metric)\n",
    "    ax[i].set_ylim([0, 1])\n",
    "    ax[i].legend(['train', 'valid'])\n",
    "\n",
    "plt.show()"
   ]
  },
  {
   "cell_type": "code",
   "execution_count": 26,
   "id": "cca1a1f4",
   "metadata": {},
   "outputs": [
    {
     "name": "stdout",
     "output_type": "stream",
     "text": [
      "Test Loss: 0.4096841812133789\n",
      "Test Accuracy: 0.8916084170341492\n"
     ]
    }
   ],
   "source": [
    "results = model.evaluate(test_ds, verbose=0)\n",
    "print(f'Test Loss: {results[0]}')\n",
    "print(f'Test Accuracy: {results[1]}')"
   ]
  },
  {
   "cell_type": "code",
   "execution_count": 27,
   "id": "222fafa7",
   "metadata": {},
   "outputs": [
    {
     "name": "stdout",
     "output_type": "stream",
     "text": [
      "9/9 [==============================] - 0s 3ms/step\n",
      "Accuracy for class 0 (Label 6): 0.3333333333333333\n",
      "Accuracy for class 1 (Label 9): 0.7777777777777778\n"
     ]
    }
   ],
   "source": [
    "# Assuming you have obtained predictions on the test set\n",
    "predictions = model.predict(test_ds)\n",
    "\n",
    "# Convert predictions to class labels (0 or 1) based on maximum probability\n",
    "predicted_labels = np.argmax(predictions, axis=1)\n",
    "\n",
    "# Extract the true labels from the test set\n",
    "true_labels = df_test['Label'].values\n",
    "\n",
    "# Initialize variables to store class-wise counts and correct predictions\n",
    "class_counts = {0: 0, 1: 0}\n",
    "class_correct = {0: 0, 1: 0}\n",
    "\n",
    "# Calculate class-wise counts and correct predictions\n",
    "for true_label, predicted_label in zip(true_labels, predicted_labels):\n",
    "    class_counts[true_label] += 1\n",
    "    if true_label == predicted_label:\n",
    "        class_correct[true_label] += 1\n",
    "\n",
    "# Calculate and display class-wise accuracy\n",
    "for label, count in class_counts.items():\n",
    "    accuracy = class_correct[label] / count if count > 0 else 0\n",
    "    print(f\"Accuracy for class {label} (Label {count}): {accuracy}\")\n"
   ]
  },
  {
   "cell_type": "code",
   "execution_count": 28,
   "id": "5b7a6751",
   "metadata": {},
   "outputs": [
    {
     "name": "stdout",
     "output_type": "stream",
     "text": [
      "INFO:tensorflow:Assets written to: cats_dogs_classifier_model\\assets\n"
     ]
    },
    {
     "name": "stderr",
     "output_type": "stream",
     "text": [
      "INFO:tensorflow:Assets written to: cats_dogs_classifier_model\\assets\n"
     ]
    }
   ],
   "source": [
    "# Save the trained model\n",
    "model.save('cats_dogs_classifier_model')\n"
   ]
  },
  {
   "cell_type": "code",
   "execution_count": 36,
   "id": "9f0caf2b",
   "metadata": {
    "scrolled": true
   },
   "outputs": [
    {
     "name": "stdout",
     "output_type": "stream",
     "text": [
      "2/2 [==============================] - 0s 118us/step\n",
      "cats/cat_3.wav: Prediction - Dog\n",
      "dogs/dog_barking_7.wav: Prediction - Dog\n"
     ]
    }
   ],
   "source": [
    "# Load the saved model\n",
    "loaded_model = tf.keras.models.load_model('cats_dogs_classifier_model')\n",
    "\n",
    "# Define test file paths\n",
    "test_dir = 'cats_dogs/test/'\n",
    "test_files = ['cats/cat_3.wav', 'dogs/dog_barking_7.wav']\n",
    "\n",
    "# Function to process test data and extract YAMNet embeddings\n",
    "def process_test_data(file_path):\n",
    "    file_contents = tf.io.read_file(test_dir + file_path)\n",
    "    wav, _ = tf.audio.decode_wav(file_contents, desired_channels=1)\n",
    "    wav = tf.squeeze(wav, axis=-1)\n",
    "    # You may resample the audio to 16kHz if needed (using other libraries if desired)\n",
    "\n",
    "    # Extract YAMNet embeddings (similar to your previous function)\n",
    "    scores, embeddings, spectrogram = yamnet(wav)\n",
    "    return embeddings\n",
    "\n",
    "# Load and process test data while extracting YAMNet embeddings\n",
    "test_embeddings = [process_test_data(file) for file in test_files]\n",
    "\n",
    "# Stack the embeddings\n",
    "test_embeddings = tf.concat(test_embeddings, axis=0)\n",
    "\n",
    "# Predict using the loaded model\n",
    "predictions = loaded_model.predict(test_embeddings)\n",
    "\n",
    "# Print predictions\n",
    "for file_path, prediction in zip(test_files, predictions):\n",
    "    if prediction[0] > prediction[1]:\n",
    "        print(f\"{file_path}: Prediction - Cat\")\n",
    "    else:\n",
    "        print(f\"{file_path}: Prediction - Dog\")\n"
   ]
  },
  {
   "cell_type": "code",
   "execution_count": null,
   "id": "78df7571",
   "metadata": {},
   "outputs": [],
   "source": []
  }
 ],
 "metadata": {
  "kernelspec": {
   "display_name": "emt",
   "language": "python",
   "name": "emt"
  },
  "language_info": {
   "codemirror_mode": {
    "name": "ipython",
    "version": 3
   },
   "file_extension": ".py",
   "mimetype": "text/x-python",
   "name": "python",
   "nbconvert_exporter": "python",
   "pygments_lexer": "ipython3",
   "version": "3.9.13"
  }
 },
 "nbformat": 4,
 "nbformat_minor": 5
}

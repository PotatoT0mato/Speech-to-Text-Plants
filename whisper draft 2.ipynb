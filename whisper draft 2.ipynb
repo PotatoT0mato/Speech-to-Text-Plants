{
 "cells": [
  {
   "cell_type": "code",
   "execution_count": 2,
   "id": "cd383990",
   "metadata": {},
   "outputs": [
    {
     "name": "stdout",
     "output_type": "stream",
     "text": [
      "\n",
      "Transcription:\n",
      "  The delicious Roma freshly baked bread filled the bakery.\n",
      "Detected Language: English\n",
      "Enter words to extract: bread\n",
      "Extracted Words: ['bread']\n"
     ]
    }
   ],
   "source": [
    "import whisper\n",
    "from langdetect import detect\n",
    "import spacy\n",
    "import calamancy\n",
    "\n",
    "\n",
    "# Load Spacy English Model\n",
    "nlp_english = spacy.load(\"en_core_web_sm\")\n",
    "\n",
    "# Download and load CalamancY Tagalog Model\n",
    "nlp_tagalog = calamancy.load(\"tl_calamancy_md-0.1.0\")\n",
    "\n",
    "def transcribe_and_analyze(file_path):\n",
    "    # Transcribe the audio using Whisper\n",
    "    model = whisper.load_model(\"base\")\n",
    "    result = model.transcribe(file_path)\n",
    "    transcription = result[\"text\"]\n",
    "\n",
    "    # Detect language\n",
    "    try:\n",
    "        lang = detect(transcription)\n",
    "    except:\n",
    "        lang = \"error\"  # In case language detection fails\n",
    "\n",
    "    # Print Transcription and Detected Language\n",
    "    print(\"\\nTranscription:\\n\", transcription)\n",
    "    print(\"Detected Language:\", \"English\" if lang == 'en' else \"Tagalog\" if lang == 'tl' else \"Mixed/Unknown\")\n",
    "\n",
    "    # Extract words (example: user inputs words to extract)\n",
    "    user_input = input(\"Enter words to extract: \").split()\n",
    "    extracted_words = []\n",
    "\n",
    "    if lang == 'en':\n",
    "        extracted_words = [word.text for word in nlp_english(transcription) if word.text in user_input]\n",
    "    elif lang == 'tl':\n",
    "        doc = nlp_tagalog(transcription)\n",
    "        extracted_words = [word.text for word in doc if word.text in user_input]\n",
    "\n",
    "    print(\"Extracted Words:\", extracted_words)\n",
    "\n",
    "# Example usage\n",
    "mixed_audio = \"euphoric.wav\"\n",
    "transcribe_and_analyze(mixed_audio)\n"
   ]
  },
  {
   "cell_type": "code",
   "execution_count": null,
   "id": "9a238d9c",
   "metadata": {},
   "outputs": [],
   "source": [
    "    "
   ]
  }
 ],
 "metadata": {
  "kernelspec": {
   "display_name": "emt",
   "language": "python",
   "name": "emt"
  },
  "language_info": {
   "codemirror_mode": {
    "name": "ipython",
    "version": 3
   },
   "file_extension": ".py",
   "mimetype": "text/x-python",
   "name": "python",
   "nbconvert_exporter": "python",
   "pygments_lexer": "ipython3",
   "version": "3.9.13"
  }
 },
 "nbformat": 4,
 "nbformat_minor": 5
}
